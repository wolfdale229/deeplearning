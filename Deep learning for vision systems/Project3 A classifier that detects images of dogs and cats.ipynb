{
 "cells": [
  {
   "cell_type": "markdown",
   "id": "purple-sentence",
   "metadata": {},
   "source": [
    "#  Topic : A classifier that detects images of dogs and cats"
   ]
  },
  {
   "cell_type": "code",
   "execution_count": 1,
   "id": "exterior-blowing",
   "metadata": {},
   "outputs": [],
   "source": [
    "%reload_ext autoreload\n",
    "%autoreload 2\n",
    "%matplotlib inline"
   ]
  },
  {
   "cell_type": "code",
   "execution_count": 67,
   "id": "amazing-fusion",
   "metadata": {},
   "outputs": [],
   "source": [
    "import os\n",
    "\n",
    "from tensorflow.keras.models import Model\n",
    "from tensorflow.keras.optimizers import Adam\n",
    "from tensorflow.keras.applications import vgg16\n",
    "from tensorflow.keras.preprocessing import image\n",
    "from tensorflow.keras.utils import to_categorical\n",
    "from tensorflow.keras.metrics import categorical_crossentropy\n",
    "from tensorflow.keras.preprocessing.image import ImageDataGenerator\n",
    "from tensorflow.keras.layers import Dense, Flatten, Dropout, BatchNormalization"
   ]
  },
  {
   "cell_type": "code",
   "execution_count": 45,
   "id": "herbal-duration",
   "metadata": {},
   "outputs": [
    {
     "data": {
      "text/plain": [
       "'/home/mosioatunya/Projects/deeplearning/dog_cat_small/test_dir/'"
      ]
     },
     "execution_count": 45,
     "metadata": {},
     "output_type": "execute_result"
    }
   ],
   "source": [
    "abs_path = os.path.abspath('..')\n",
    "\n",
    "train_path = os.path.join(abs_path, 'dog_cat_small/train_dir')\n",
    "test_path = os.path.join(abs_path, 'dog_cat_small/test_dir')\n",
    "valid_path = os.path.join(abs_path, 'dog_cat_small/validation_dir')"
   ]
  },
  {
   "cell_type": "code",
   "execution_count": 4,
   "id": "medical-avenue",
   "metadata": {},
   "outputs": [
    {
     "name": "stdout",
     "output_type": "stream",
     "text": [
      "Found 2000 images belonging to 2 classes.\n",
      "Found 1000 images belonging to 2 classes.\n",
      "Found 1000 images belonging to 2 classes.\n"
     ]
    }
   ],
   "source": [
    "# Preprocessing the data\n",
    "train_batches = ImageDataGenerator().flow_from_directory(directory=train_path,\n",
    "                                                                       target_size=(224, 224),\n",
    "                                                                       batch_size=10\n",
    "                                                                       )\n",
    "\n",
    "test_batches = ImageDataGenerator().flow_from_directory(test_path, target_size=(224, 224),\n",
    "                                                                      batch_size=50,\n",
    "                                                                      shuffle=False\n",
    "                                                                     )\n",
    "\n",
    "valid_batches = ImageDataGenerator().flow_from_directory(valid_path, target_size=(224, 224),\n",
    "                                                                       batch_size=30\n",
    "                                                                      )"
   ]
  },
  {
   "cell_type": "code",
   "execution_count": 15,
   "id": "architectural-washington",
   "metadata": {},
   "outputs": [],
   "source": [
    "# Creating a Model\n",
    "base_model = vgg16.VGG16(weights='imagenet', include_top=False, input_shape=(224, 224, 3))\n",
    "\n",
    "for layer in base_model.layers:\n",
    "    layer.trainable = False"
   ]
  },
  {
   "cell_type": "code",
   "execution_count": 16,
   "id": "corrected-captain",
   "metadata": {
    "scrolled": true
   },
   "outputs": [
    {
     "name": "stdout",
     "output_type": "stream",
     "text": [
      "Model: \"vgg16\"\n",
      "_________________________________________________________________\n",
      "Layer (type)                 Output Shape              Param #   \n",
      "=================================================================\n",
      "input_5 (InputLayer)         [(None, 224, 224, 3)]     0         \n",
      "_________________________________________________________________\n",
      "block1_conv1 (Conv2D)        (None, 224, 224, 64)      1792      \n",
      "_________________________________________________________________\n",
      "block1_conv2 (Conv2D)        (None, 224, 224, 64)      36928     \n",
      "_________________________________________________________________\n",
      "block1_pool (MaxPooling2D)   (None, 112, 112, 64)      0         \n",
      "_________________________________________________________________\n",
      "block2_conv1 (Conv2D)        (None, 112, 112, 128)     73856     \n",
      "_________________________________________________________________\n",
      "block2_conv2 (Conv2D)        (None, 112, 112, 128)     147584    \n",
      "_________________________________________________________________\n",
      "block2_pool (MaxPooling2D)   (None, 56, 56, 128)       0         \n",
      "_________________________________________________________________\n",
      "block3_conv1 (Conv2D)        (None, 56, 56, 256)       295168    \n",
      "_________________________________________________________________\n",
      "block3_conv2 (Conv2D)        (None, 56, 56, 256)       590080    \n",
      "_________________________________________________________________\n",
      "block3_conv3 (Conv2D)        (None, 56, 56, 256)       590080    \n",
      "_________________________________________________________________\n",
      "block3_pool (MaxPooling2D)   (None, 28, 28, 256)       0         \n",
      "_________________________________________________________________\n",
      "block4_conv1 (Conv2D)        (None, 28, 28, 512)       1180160   \n",
      "_________________________________________________________________\n",
      "block4_conv2 (Conv2D)        (None, 28, 28, 512)       2359808   \n",
      "_________________________________________________________________\n",
      "block4_conv3 (Conv2D)        (None, 28, 28, 512)       2359808   \n",
      "_________________________________________________________________\n",
      "block4_pool (MaxPooling2D)   (None, 14, 14, 512)       0         \n",
      "_________________________________________________________________\n",
      "block5_conv1 (Conv2D)        (None, 14, 14, 512)       2359808   \n",
      "_________________________________________________________________\n",
      "block5_conv2 (Conv2D)        (None, 14, 14, 512)       2359808   \n",
      "_________________________________________________________________\n",
      "block5_conv3 (Conv2D)        (None, 14, 14, 512)       2359808   \n",
      "_________________________________________________________________\n",
      "block5_pool (MaxPooling2D)   (None, 7, 7, 512)         0         \n",
      "=================================================================\n",
      "Total params: 14,714,688\n",
      "Trainable params: 0\n",
      "Non-trainable params: 14,714,688\n",
      "_________________________________________________________________\n"
     ]
    }
   ],
   "source": [
    "base_model.summary()"
   ]
  },
  {
   "cell_type": "code",
   "execution_count": 17,
   "id": "comprehensive-buyer",
   "metadata": {
    "scrolled": true
   },
   "outputs": [
    {
     "name": "stdout",
     "output_type": "stream",
     "text": [
      "Model: \"model_3\"\n",
      "_________________________________________________________________\n",
      "Layer (type)                 Output Shape              Param #   \n",
      "=================================================================\n",
      "input_5 (InputLayer)         [(None, 224, 224, 3)]     0         \n",
      "_________________________________________________________________\n",
      "block1_conv1 (Conv2D)        (None, 224, 224, 64)      1792      \n",
      "_________________________________________________________________\n",
      "block1_conv2 (Conv2D)        (None, 224, 224, 64)      36928     \n",
      "_________________________________________________________________\n",
      "block1_pool (MaxPooling2D)   (None, 112, 112, 64)      0         \n",
      "_________________________________________________________________\n",
      "block2_conv1 (Conv2D)        (None, 112, 112, 128)     73856     \n",
      "_________________________________________________________________\n",
      "block2_conv2 (Conv2D)        (None, 112, 112, 128)     147584    \n",
      "_________________________________________________________________\n",
      "block2_pool (MaxPooling2D)   (None, 56, 56, 128)       0         \n",
      "_________________________________________________________________\n",
      "block3_conv1 (Conv2D)        (None, 56, 56, 256)       295168    \n",
      "_________________________________________________________________\n",
      "block3_conv2 (Conv2D)        (None, 56, 56, 256)       590080    \n",
      "_________________________________________________________________\n",
      "block3_conv3 (Conv2D)        (None, 56, 56, 256)       590080    \n",
      "_________________________________________________________________\n",
      "block3_pool (MaxPooling2D)   (None, 28, 28, 256)       0         \n",
      "_________________________________________________________________\n",
      "block4_conv1 (Conv2D)        (None, 28, 28, 512)       1180160   \n",
      "_________________________________________________________________\n",
      "block4_conv2 (Conv2D)        (None, 28, 28, 512)       2359808   \n",
      "_________________________________________________________________\n",
      "block4_conv3 (Conv2D)        (None, 28, 28, 512)       2359808   \n",
      "_________________________________________________________________\n",
      "block4_pool (MaxPooling2D)   (None, 14, 14, 512)       0         \n",
      "_________________________________________________________________\n",
      "block5_conv1 (Conv2D)        (None, 14, 14, 512)       2359808   \n",
      "_________________________________________________________________\n",
      "block5_conv2 (Conv2D)        (None, 14, 14, 512)       2359808   \n",
      "_________________________________________________________________\n",
      "block5_conv3 (Conv2D)        (None, 14, 14, 512)       2359808   \n",
      "_________________________________________________________________\n",
      "block5_pool (MaxPooling2D)   (None, 7, 7, 512)         0         \n",
      "_________________________________________________________________\n",
      "flatten_3 (Flatten)          (None, 25088)             0         \n",
      "_________________________________________________________________\n",
      "FC_2 (Dense)                 (None, 64)                1605696   \n",
      "_________________________________________________________________\n",
      "batch_normalization_3 (Batch (None, 64)                256       \n",
      "_________________________________________________________________\n",
      "dropout_3 (Dropout)          (None, 64)                0         \n",
      "_________________________________________________________________\n",
      "softmax (Dense)              (None, 2)                 130       \n",
      "=================================================================\n",
      "Total params: 16,320,770\n",
      "Trainable params: 1,605,954\n",
      "Non-trainable params: 14,714,816\n",
      "_________________________________________________________________\n"
     ]
    }
   ],
   "source": [
    "output_layer = base_model.get_layer('block5_pool')\n",
    "output = output_layer.output\n",
    "\n",
    "x = Flatten()(output)\n",
    "x = Dense(64, activation='relu', name='FC_2')(x)\n",
    "x = BatchNormalization()(x)\n",
    "x = Dropout(rate=0.5)(x)\n",
    "\n",
    "output = Dense(2, activation='softmax', name='softmax')(x)\n",
    "\n",
    "new_model = Model(inputs=base_model.input, outputs=output)\n",
    "new_model.summary()"
   ]
  },
  {
   "cell_type": "code",
   "execution_count": 23,
   "id": "fantastic-citizen",
   "metadata": {
    "scrolled": true
   },
   "outputs": [
    {
     "name": "stdout",
     "output_type": "stream",
     "text": [
      "Epoch 1/30\n",
      "4/4 [==============================] - 65s 19s/step - loss: 0.6796 - accuracy: 0.6667 - val_loss: 0.8980 - val_accuracy: 0.8333\n",
      "Epoch 2/30\n",
      "4/4 [==============================] - 64s 19s/step - loss: 0.3222 - accuracy: 0.8233 - val_loss: 0.7404 - val_accuracy: 0.7500\n",
      "Epoch 3/30\n",
      "4/4 [==============================] - 63s 19s/step - loss: 0.5416 - accuracy: 0.7733 - val_loss: 1.2172 - val_accuracy: 0.7833\n",
      "Epoch 4/30\n",
      "4/4 [==============================] - 64s 19s/step - loss: 0.4897 - accuracy: 0.8100 - val_loss: 0.3947 - val_accuracy: 0.8500\n",
      "Epoch 5/30\n",
      "4/4 [==============================] - 64s 19s/step - loss: 0.3387 - accuracy: 0.8833 - val_loss: 0.3973 - val_accuracy: 0.8833\n",
      "Epoch 6/30\n",
      "4/4 [==============================] - 64s 19s/step - loss: 0.3068 - accuracy: 0.8167 - val_loss: 0.4239 - val_accuracy: 0.8667\n",
      "Epoch 7/30\n",
      "4/4 [==============================] - 64s 19s/step - loss: 0.4172 - accuracy: 0.7967 - val_loss: 0.2002 - val_accuracy: 0.9500\n",
      "Epoch 8/30\n",
      "4/4 [==============================] - 64s 19s/step - loss: 0.0734 - accuracy: 1.0000 - val_loss: 0.5448 - val_accuracy: 0.8167\n",
      "Epoch 9/30\n",
      "4/4 [==============================] - 64s 19s/step - loss: 0.2611 - accuracy: 0.8767 - val_loss: 0.0467 - val_accuracy: 0.9833\n",
      "Epoch 10/30\n",
      "4/4 [==============================] - 64s 19s/step - loss: 0.4914 - accuracy: 0.8167 - val_loss: 0.1801 - val_accuracy: 0.9167\n",
      "Epoch 11/30\n",
      "4/4 [==============================] - 68s 20s/step - loss: 0.2859 - accuracy: 0.8733 - val_loss: 0.4235 - val_accuracy: 0.8333\n",
      "Epoch 12/30\n",
      "4/4 [==============================] - 68s 20s/step - loss: 0.4470 - accuracy: 0.7833 - val_loss: 0.3510 - val_accuracy: 0.8500\n",
      "Epoch 13/30\n",
      "4/4 [==============================] - 66s 20s/step - loss: 0.2431 - accuracy: 0.8433 - val_loss: 0.0802 - val_accuracy: 0.9500\n",
      "Epoch 14/30\n",
      "4/4 [==============================] - 64s 19s/step - loss: 0.3570 - accuracy: 0.9467 - val_loss: 0.2579 - val_accuracy: 0.9167\n",
      "Epoch 15/30\n",
      "4/4 [==============================] - 64s 19s/step - loss: 0.0570 - accuracy: 0.9833 - val_loss: 0.1705 - val_accuracy: 0.9167\n",
      "Epoch 16/30\n",
      "4/4 [==============================] - 64s 19s/step - loss: 0.1087 - accuracy: 0.9367 - val_loss: 0.2467 - val_accuracy: 0.8833\n",
      "Epoch 17/30\n",
      "4/4 [==============================] - 64s 19s/step - loss: 0.1148 - accuracy: 0.9367 - val_loss: 0.1951 - val_accuracy: 0.9167\n",
      "Epoch 18/30\n",
      "4/4 [==============================] - 64s 19s/step - loss: 0.2501 - accuracy: 0.9000 - val_loss: 0.1102 - val_accuracy: 0.9500\n",
      "Epoch 19/30\n",
      "4/4 [==============================] - 64s 19s/step - loss: 0.3571 - accuracy: 0.8833 - val_loss: 0.1480 - val_accuracy: 0.9333\n",
      "Epoch 20/30\n",
      "4/4 [==============================] - 63s 19s/step - loss: 0.4521 - accuracy: 0.9067 - val_loss: 0.1000 - val_accuracy: 0.9500\n",
      "Epoch 21/30\n",
      "4/4 [==============================] - 64s 19s/step - loss: 0.2506 - accuracy: 0.8433 - val_loss: 0.0977 - val_accuracy: 0.9667\n",
      "Epoch 22/30\n",
      "4/4 [==============================] - 64s 19s/step - loss: 0.1128 - accuracy: 0.9467 - val_loss: 0.2263 - val_accuracy: 0.9333\n",
      "Epoch 23/30\n",
      "4/4 [==============================] - 64s 19s/step - loss: 0.3569 - accuracy: 0.8800 - val_loss: 0.1681 - val_accuracy: 0.9333\n",
      "Epoch 24/30\n",
      "4/4 [==============================] - 64s 19s/step - loss: 0.0432 - accuracy: 0.9900 - val_loss: 0.1633 - val_accuracy: 0.9167\n",
      "Epoch 25/30\n",
      "4/4 [==============================] - 64s 19s/step - loss: 0.3126 - accuracy: 0.8667 - val_loss: 0.1482 - val_accuracy: 0.9333\n",
      "Epoch 26/30\n",
      "4/4 [==============================] - 64s 19s/step - loss: 0.1629 - accuracy: 0.8933 - val_loss: 0.0549 - val_accuracy: 0.9833\n",
      "Epoch 27/30\n",
      "4/4 [==============================] - 63s 19s/step - loss: 0.4600 - accuracy: 0.8567 - val_loss: 0.2019 - val_accuracy: 0.9500\n",
      "Epoch 28/30\n",
      "4/4 [==============================] - 64s 19s/step - loss: 0.0712 - accuracy: 0.9633 - val_loss: 0.0393 - val_accuracy: 1.0000\n",
      "Epoch 29/30\n",
      "4/4 [==============================] - 63s 19s/step - loss: 0.3477 - accuracy: 0.8667 - val_loss: 0.1049 - val_accuracy: 0.9500\n",
      "Epoch 30/30\n",
      "4/4 [==============================] - 63s 19s/step - loss: 0.0821 - accuracy: 0.9533 - val_loss: 0.1198 - val_accuracy: 0.9333\n"
     ]
    },
    {
     "data": {
      "text/plain": [
       "<tensorflow.python.keras.callbacks.History at 0x7fc1284f2ac0>"
      ]
     },
     "execution_count": 23,
     "metadata": {},
     "output_type": "execute_result"
    }
   ],
   "source": [
    "# make a compiler and train\n",
    "new_model.compile(Adam(lr=0.0001), loss='categorical_crossentropy', \n",
    "                 metrics=['accuracy'])\n",
    "new_model.fit(train_batches, validation_data=valid_batches, epochs=30, steps_per_epoch=4,\n",
    "                        validation_steps=2, verbose=1)"
   ]
  },
  {
   "cell_type": "code",
   "execution_count": 25,
   "id": "radical-provision",
   "metadata": {},
   "outputs": [
    {
     "name": "stderr",
     "output_type": "stream",
     "text": [
      "/home/mosioatunya/.local/lib/python3.8/site-packages/tensorflow/python/keras/engine/training.py:1877: UserWarning: `Model.evaluate_generator` is deprecated and will be removed in a future version. Please use `Model.evaluate`, which supports generators.\n",
      "  warnings.warn('`Model.evaluate_generator` is deprecated and '\n"
     ]
    },
    {
     "name": "stdout",
     "output_type": "stream",
     "text": [
      "4/4 [==============================] - 127s 32s/step - loss: 0.0972 - accuracy: 0.9550\n"
     ]
    }
   ],
   "source": [
    "test_loss, test_acc = new_model.evaluate_generator(test_batches, steps=4, verbose=1)"
   ]
  },
  {
   "cell_type": "code",
   "execution_count": 30,
   "id": "resistant-world",
   "metadata": {},
   "outputs": [
    {
     "name": "stdout",
     "output_type": "stream",
     "text": [
      "test loss :0.09718012064695358\n",
      " test accuracy : 95.49999833106995\n"
     ]
    }
   ],
   "source": [
    "print(f'test loss :{test_loss}\\n test accuracy : {test_acc*100}')"
   ]
  },
  {
   "cell_type": "code",
   "execution_count": null,
   "id": "sticky-plaintiff",
   "metadata": {},
   "outputs": [],
   "source": []
  }
 ],
 "metadata": {
  "kernelspec": {
   "display_name": "Python 3",
   "language": "python",
   "name": "python3"
  },
  "language_info": {
   "codemirror_mode": {
    "name": "ipython",
    "version": 3
   },
   "file_extension": ".py",
   "mimetype": "text/x-python",
   "name": "python",
   "nbconvert_exporter": "python",
   "pygments_lexer": "ipython3",
   "version": "3.8.3"
  }
 },
 "nbformat": 4,
 "nbformat_minor": 5
}
