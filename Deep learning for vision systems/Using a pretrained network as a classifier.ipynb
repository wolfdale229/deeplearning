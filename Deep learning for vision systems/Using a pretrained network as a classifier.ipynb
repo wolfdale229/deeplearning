{
 "cells": [
  {
   "cell_type": "markdown",
   "id": "electric-slovenia",
   "metadata": {},
   "source": [
    "# Using a pretrained network as a classifier"
   ]
  },
  {
   "cell_type": "code",
   "execution_count": 1,
   "id": "written-heritage",
   "metadata": {},
   "outputs": [],
   "source": [
    "%reload_ext autoreload\n",
    "%autoreload 2\n",
    "%matplotlib inline"
   ]
  },
  {
   "cell_type": "code",
   "execution_count": 2,
   "id": "continued-bracket",
   "metadata": {},
   "outputs": [],
   "source": [
    "from tensorflow.keras.preprocessing.image import load_img\n",
    "from tensorflow.keras.preprocessing.image import img_to_array\n",
    "from tensorflow.keras.applications.vgg16 import (decode_predictions, preprocess_input,VGG16)"
   ]
  },
  {
   "cell_type": "code",
   "execution_count": null,
   "id": "abstract-reverse",
   "metadata": {},
   "outputs": [],
   "source": [
    "# build a model using the pretrained model and it's weights\n",
    "model = VGG16(weights='imagenet', include_top=True, input_shape=(224, 224, 3))\n",
    "\n",
    "\n",
    "# load and preprocess an image\n",
    "\n",
    "image = load_img('path/to/image', target_size=(224, 224))\n",
    "\n",
    "image = img_to_array(image).reshape(1, image.shape[0], image.shape[1], image.shape[2])\n",
    "image = preprocess_input(image)"
   ]
  },
  {
   "cell_type": "code",
   "execution_count": null,
   "id": "solid-schema",
   "metadata": {},
   "outputs": [],
   "source": [
    "# training the model\n",
    "pred = model.predict(image)\n",
    "label = decode_predictions(pred)\n",
    "\n",
    "label = label[0][0]\n",
    "print('%s (%.2f%%)' % (label[1], label[2]*100))"
   ]
  }
 ],
 "metadata": {
  "kernelspec": {
   "display_name": "Python 3",
   "language": "python",
   "name": "python3"
  },
  "language_info": {
   "codemirror_mode": {
    "name": "ipython",
    "version": 3
   },
   "file_extension": ".py",
   "mimetype": "text/x-python",
   "name": "python",
   "nbconvert_exporter": "python",
   "pygments_lexer": "ipython3",
   "version": "3.8.3"
  }
 },
 "nbformat": 4,
 "nbformat_minor": 5
}
