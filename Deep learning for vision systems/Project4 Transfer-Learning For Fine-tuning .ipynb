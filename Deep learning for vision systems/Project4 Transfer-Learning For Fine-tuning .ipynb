{
 "cells": [
  {
   "cell_type": "markdown",
   "id": "median-protection",
   "metadata": {},
   "source": [
    "# Topic : Project 4 Transfer-Learning For Fine-tuning "
   ]
  },
  {
   "cell_type": "code",
   "execution_count": null,
   "id": "opponent-college",
   "metadata": {},
   "outputs": [],
   "source": []
  }
 ],
 "metadata": {
  "kernelspec": {
   "display_name": "Python 3",
   "language": "python",
   "name": "python3"
  },
  "language_info": {
   "codemirror_mode": {
    "name": "ipython",
    "version": 3
   },
   "file_extension": ".py",
   "mimetype": "text/x-python",
   "name": "python",
   "nbconvert_exporter": "python",
   "pygments_lexer": "ipython3",
   "version": "3.8.3"
  }
 },
 "nbformat": 4,
 "nbformat_minor": 5
}
