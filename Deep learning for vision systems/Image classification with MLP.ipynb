{
 "cells": [
  {
   "cell_type": "markdown",
   "id": "documentary-courage",
   "metadata": {},
   "source": [
    "# Topic : Image classification with MLP\n",
    "## Goal : The goal of this classifier will be to classify images of digits from 0 to 9 (10 classes)\n",
    "## Dataset : MNIST Dataset"
   ]
  },
  {
   "cell_type": "code",
   "execution_count": 1,
   "id": "certified-stock",
   "metadata": {},
   "outputs": [],
   "source": [
    "%reload_ext autoreload\n",
    "%autoreload 2\n",
    "%matplotlib inline"
   ]
  },
  {
   "cell_type": "code",
   "execution_count": 59,
   "id": "hawaiian-rochester",
   "metadata": {},
   "outputs": [],
   "source": [
    "import numpy as np\n",
    "from tensorflow.keras.models import Sequential\n",
    "from tensorflow.keras.layers import Flatten, Dense\n",
    "from tensorflow.keras.utils import to_categorical\n",
    "from tensorflow.keras.datasets import mnist\n",
    "from tensorflow.keras.losses import categorical_crossentropy"
   ]
  },
  {
   "cell_type": "code",
   "execution_count": 10,
   "id": "irish-illinois",
   "metadata": {},
   "outputs": [
    {
     "name": "stdout",
     "output_type": "stream",
     "text": [
      "Model: \"sequential_3\"\n",
      "_________________________________________________________________\n",
      "Layer (type)                 Output Shape              Param #   \n",
      "=================================================================\n",
      "flatten_3 (Flatten)          (None, 784)               0         \n",
      "_________________________________________________________________\n",
      "dense_7 (Dense)              (None, 512)               401920    \n",
      "_________________________________________________________________\n",
      "dense_8 (Dense)              (None, 512)               262656    \n",
      "_________________________________________________________________\n",
      "dense_9 (Dense)              (None, 10)                5130      \n",
      "=================================================================\n",
      "Total params: 669,706\n",
      "Trainable params: 669,706\n",
      "Non-trainable params: 0\n",
      "_________________________________________________________________\n"
     ]
    }
   ],
   "source": [
    "model = Sequential()\n",
    "\n",
    "model.add(Flatten(input_shape=(28, 28))) # input layer\n",
    "\n",
    "# hidden layers\n",
    "model.add(Dense(512, activation = 'relu'))\n",
    "model.add(Dense(512, activation = 'relu')) \n",
    "\n",
    "model.add(Dense(10, activation = 'softmax')) # output layer using softmax activation \n",
    "\n",
    "model.summary()"
   ]
  },
  {
   "cell_type": "code",
   "execution_count": 56,
   "id": "suffering-steam",
   "metadata": {},
   "outputs": [],
   "source": [
    "(X_train, y_train), (X_test, y_test) = mnist.load_data()"
   ]
  },
  {
   "cell_type": "code",
   "execution_count": 57,
   "id": "intelligent-interface",
   "metadata": {},
   "outputs": [
    {
     "data": {
      "text/plain": [
       "(60000, 28, 28)"
      ]
     },
     "execution_count": 57,
     "metadata": {},
     "output_type": "execute_result"
    }
   ],
   "source": [
    "X_train.shape"
   ]
  },
  {
   "cell_type": "code",
   "execution_count": 60,
   "id": "involved-london",
   "metadata": {},
   "outputs": [],
   "source": [
    "X_train.reshape((60000, 28*28))\n",
    "X_test.reshape((10000, 28*28))\n",
    "\n",
    "y_train = to_categorical(y_train, num_classes=len(np.unique(y_train)))\n",
    "y_test = to_categorical(y_test, num_classes=len(np.unique(y_test)))"
   ]
  },
  {
   "cell_type": "code",
   "execution_count": 63,
   "id": "fifty-distribution",
   "metadata": {
    "scrolled": true
   },
   "outputs": [
    {
     "name": "stdout",
     "output_type": "stream",
     "text": [
      "Epoch 1/10\n",
      "1563/1563 [==============================] - 16s 10ms/step - loss: 0.6592 - accuracy: 0.9224 - val_loss: 0.3059 - val_accuracy: 0.9482\n",
      "Epoch 2/10\n",
      "1563/1563 [==============================] - 15s 9ms/step - loss: 0.4090 - accuracy: 0.9409 - val_loss: 0.4235 - val_accuracy: 0.9496\n",
      "Epoch 3/10\n",
      "1563/1563 [==============================] - 15s 10ms/step - loss: 0.3570 - accuracy: 0.9491 - val_loss: 0.8232 - val_accuracy: 0.9202\n",
      "Epoch 4/10\n",
      "1563/1563 [==============================] - 15s 10ms/step - loss: 0.3527 - accuracy: 0.9512 - val_loss: 0.3344 - val_accuracy: 0.9473\n",
      "Epoch 5/10\n",
      "1563/1563 [==============================] - 15s 10ms/step - loss: 0.3164 - accuracy: 0.9531 - val_loss: 0.4470 - val_accuracy: 0.9603\n",
      "Epoch 6/10\n",
      "1563/1563 [==============================] - 15s 10ms/step - loss: 0.3403 - accuracy: 0.9554 - val_loss: 0.4292 - val_accuracy: 0.9603\n",
      "Epoch 7/10\n",
      "1563/1563 [==============================] - 15s 9ms/step - loss: 0.3314 - accuracy: 0.9587 - val_loss: 0.5582 - val_accuracy: 0.9496\n",
      "Epoch 8/10\n",
      "1563/1563 [==============================] - 15s 10ms/step - loss: 0.3383 - accuracy: 0.9564 - val_loss: 0.5741 - val_accuracy: 0.9461\n",
      "Epoch 9/10\n",
      "1563/1563 [==============================] - 15s 10ms/step - loss: 0.3643 - accuracy: 0.9475 - val_loss: 0.7015 - val_accuracy: 0.9467\n",
      "Epoch 10/10\n",
      "1563/1563 [==============================] - 15s 10ms/step - loss: 0.3866 - accuracy: 0.9550 - val_loss: 0.6857 - val_accuracy: 0.9509\n"
     ]
    },
    {
     "data": {
      "text/plain": [
       "<tensorflow.python.keras.callbacks.History at 0x7f0f3b0b6b20>"
      ]
     },
     "execution_count": 63,
     "metadata": {},
     "output_type": "execute_result"
    }
   ],
   "source": [
    "model.compile(loss=categorical_crossentropy, metrics=['accuracy'])\n",
    "model.fit(X_train[:50000], y_train[:50000],\n",
    "          validation_data=(X_train[50000:], y_train[50000:]),\n",
    "         epochs=10, batch_size=32)"
   ]
  },
  {
   "cell_type": "code",
   "execution_count": 118,
   "id": "green-georgia",
   "metadata": {},
   "outputs": [
    {
     "data": {
      "text/plain": [
       "array([7, 2, 1, 0, 4, 1, 4, 9, 6, 9])"
      ]
     },
     "execution_count": 118,
     "metadata": {},
     "output_type": "execute_result"
    }
   ],
   "source": [
    "pred = np.argmax(model.predict(X_test), axis=-1)[:10] # predicting the X_test values\n",
    "pred "
   ]
  },
  {
   "cell_type": "code",
   "execution_count": 117,
   "id": "bibliographic-anime",
   "metadata": {},
   "outputs": [
    {
     "data": {
      "text/plain": [
       "array([7, 2, 1, 0, 4, 1, 4, 9, 5, 9])"
      ]
     },
     "execution_count": 117,
     "metadata": {},
     "output_type": "execute_result"
    }
   ],
   "source": [
    "true_pred = np.argmax(y_test, axis=-1)[:10] # actual prediction\n",
    "true_pred"
   ]
  },
  {
   "cell_type": "code",
   "execution_count": null,
   "id": "apart-offering",
   "metadata": {},
   "outputs": [],
   "source": []
  }
 ],
 "metadata": {
  "kernelspec": {
   "display_name": "Python 3",
   "language": "python",
   "name": "python3"
  },
  "language_info": {
   "codemirror_mode": {
    "name": "ipython",
    "version": 3
   },
   "file_extension": ".py",
   "mimetype": "text/x-python",
   "name": "python",
   "nbconvert_exporter": "python",
   "pygments_lexer": "ipython3",
   "version": "3.8.3"
  }
 },
 "nbformat": 4,
 "nbformat_minor": 5
}
